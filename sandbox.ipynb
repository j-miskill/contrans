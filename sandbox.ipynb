{
 "cells": [
  {
   "cell_type": "code",
   "execution_count": 1,
   "metadata": {},
   "outputs": [],
   "source": [
    "import contrans\n",
    "import json\n",
    "import pprint\n",
    "import pandas as pd"
   ]
  },
  {
   "cell_type": "code",
   "execution_count": 2,
   "metadata": {},
   "outputs": [
    {
     "name": "stdout",
     "output_type": "stream",
     "text": [
      "<class 'contrans.contrans'>\n"
     ]
    }
   ],
   "source": [
    "print(contrans.contrans)"
   ]
  },
  {
   "cell_type": "code",
   "execution_count": 3,
   "metadata": {},
   "outputs": [],
   "source": [
    "contrans_obj = contrans.contrans()"
   ]
  },
  {
   "cell_type": "code",
   "execution_count": 4,
   "metadata": {},
   "outputs": [
    {
     "data": {
      "text/plain": [
       "486664"
      ]
     },
     "execution_count": 4,
     "metadata": {},
     "output_type": "execute_result"
    }
   ],
   "source": [
    "votes = contrans_obj.get_votes()\n",
    "len(votes)"
   ]
  },
  {
   "cell_type": "code",
   "execution_count": 6,
   "metadata": {},
   "outputs": [],
   "source": [
    "useragent = contrans_obj.get_useragent()"
   ]
  },
  {
   "cell_type": "code",
   "execution_count": 7,
   "metadata": {},
   "outputs": [
    {
     "name": "stdout",
     "output_type": "stream",
     "text": [
      "python-requests/2.32.3\n"
     ]
    }
   ],
   "source": [
    "print(useragent)"
   ]
  },
  {
   "cell_type": "code",
   "execution_count": 8,
   "metadata": {},
   "outputs": [
    {
     "data": {
      "text/html": [
       "<div>\n",
       "<style scoped>\n",
       "    .dataframe tbody tr th:only-of-type {\n",
       "        vertical-align: middle;\n",
       "    }\n",
       "\n",
       "    .dataframe tbody tr th {\n",
       "        vertical-align: top;\n",
       "    }\n",
       "\n",
       "    .dataframe thead th {\n",
       "        text-align: right;\n",
       "    }\n",
       "</style>\n",
       "<table border=\"1\" class=\"dataframe\">\n",
       "  <thead>\n",
       "    <tr style=\"text-align: right;\">\n",
       "      <th></th>\n",
       "      <th>name</th>\n",
       "      <th>state</th>\n",
       "      <th>district</th>\n",
       "      <th>bioguideId</th>\n",
       "    </tr>\n",
       "  </thead>\n",
       "  <tbody>\n",
       "    <tr>\n",
       "      <th>0</th>\n",
       "      <td>McIver, LaMonica</td>\n",
       "      <td>New Jersey</td>\n",
       "      <td>10.0</td>\n",
       "      <td>M001229</td>\n",
       "    </tr>\n",
       "    <tr>\n",
       "      <th>1</th>\n",
       "      <td>Evans, Daniel J.</td>\n",
       "      <td>Washington</td>\n",
       "      <td>NaN</td>\n",
       "      <td>E000236</td>\n",
       "    </tr>\n",
       "    <tr>\n",
       "      <th>2</th>\n",
       "      <td>Sasser, Jim</td>\n",
       "      <td>Tennessee</td>\n",
       "      <td>NaN</td>\n",
       "      <td>S000068</td>\n",
       "    </tr>\n",
       "    <tr>\n",
       "      <th>3</th>\n",
       "      <td>Helmy, George S.</td>\n",
       "      <td>New Jersey</td>\n",
       "      <td>NaN</td>\n",
       "      <td>H001097</td>\n",
       "    </tr>\n",
       "    <tr>\n",
       "      <th>4</th>\n",
       "      <td>Ruiz, Raul</td>\n",
       "      <td>California</td>\n",
       "      <td>25.0</td>\n",
       "      <td>R000599</td>\n",
       "    </tr>\n",
       "    <tr>\n",
       "      <th>5</th>\n",
       "      <td>De La Cruz, Monica</td>\n",
       "      <td>Texas</td>\n",
       "      <td>15.0</td>\n",
       "      <td>D000594</td>\n",
       "    </tr>\n",
       "    <tr>\n",
       "      <th>6</th>\n",
       "      <td>Menendez, Robert</td>\n",
       "      <td>New Jersey</td>\n",
       "      <td>NaN</td>\n",
       "      <td>M000639</td>\n",
       "    </tr>\n",
       "    <tr>\n",
       "      <th>7</th>\n",
       "      <td>Carr, Bob</td>\n",
       "      <td>Michigan</td>\n",
       "      <td>8.0</td>\n",
       "      <td>C000178</td>\n",
       "    </tr>\n",
       "    <tr>\n",
       "      <th>8</th>\n",
       "      <td>Nowak, Henry</td>\n",
       "      <td>New York</td>\n",
       "      <td>33.0</td>\n",
       "      <td>N000163</td>\n",
       "    </tr>\n",
       "    <tr>\n",
       "      <th>9</th>\n",
       "      <td>Pascrell, Bill</td>\n",
       "      <td>New Jersey</td>\n",
       "      <td>9.0</td>\n",
       "      <td>P000096</td>\n",
       "    </tr>\n",
       "    <tr>\n",
       "      <th>10</th>\n",
       "      <td>Booker, Cory A.</td>\n",
       "      <td>New Jersey</td>\n",
       "      <td>NaN</td>\n",
       "      <td>B001288</td>\n",
       "    </tr>\n",
       "    <tr>\n",
       "      <th>11</th>\n",
       "      <td>Jackson Lee, Sheila</td>\n",
       "      <td>Texas</td>\n",
       "      <td>18.0</td>\n",
       "      <td>J000032</td>\n",
       "    </tr>\n",
       "    <tr>\n",
       "      <th>12</th>\n",
       "      <td>Payne, Donald M.</td>\n",
       "      <td>New Jersey</td>\n",
       "      <td>10.0</td>\n",
       "      <td>P000604</td>\n",
       "    </tr>\n",
       "    <tr>\n",
       "      <th>13</th>\n",
       "      <td>Gallagher, Mike</td>\n",
       "      <td>Wisconsin</td>\n",
       "      <td>8.0</td>\n",
       "      <td>G000579</td>\n",
       "    </tr>\n",
       "    <tr>\n",
       "      <th>14</th>\n",
       "      <td>Symms, Steven D.</td>\n",
       "      <td>Idaho</td>\n",
       "      <td>NaN</td>\n",
       "      <td>S001138</td>\n",
       "    </tr>\n",
       "    <tr>\n",
       "      <th>15</th>\n",
       "      <td>Lopez, Greg</td>\n",
       "      <td>Colorado</td>\n",
       "      <td>4.0</td>\n",
       "      <td>L000604</td>\n",
       "    </tr>\n",
       "    <tr>\n",
       "      <th>16</th>\n",
       "      <td>Kiggans, Jennifer A.</td>\n",
       "      <td>Virginia</td>\n",
       "      <td>2.0</td>\n",
       "      <td>K000399</td>\n",
       "    </tr>\n",
       "    <tr>\n",
       "      <th>17</th>\n",
       "      <td>Strickland, Marilyn</td>\n",
       "      <td>Washington</td>\n",
       "      <td>10.0</td>\n",
       "      <td>S001159</td>\n",
       "    </tr>\n",
       "    <tr>\n",
       "      <th>18</th>\n",
       "      <td>Carey, Mike</td>\n",
       "      <td>Ohio</td>\n",
       "      <td>15.0</td>\n",
       "      <td>C001126</td>\n",
       "    </tr>\n",
       "    <tr>\n",
       "      <th>19</th>\n",
       "      <td>Rulli, Michael A.</td>\n",
       "      <td>Ohio</td>\n",
       "      <td>6.0</td>\n",
       "      <td>R000619</td>\n",
       "    </tr>\n",
       "  </tbody>\n",
       "</table>\n",
       "</div>"
      ],
      "text/plain": [
       "                    name       state  district bioguideId\n",
       "0       McIver, LaMonica  New Jersey      10.0    M001229\n",
       "1       Evans, Daniel J.  Washington       NaN    E000236\n",
       "2            Sasser, Jim   Tennessee       NaN    S000068\n",
       "3       Helmy, George S.  New Jersey       NaN    H001097\n",
       "4             Ruiz, Raul  California      25.0    R000599\n",
       "5     De La Cruz, Monica       Texas      15.0    D000594\n",
       "6       Menendez, Robert  New Jersey       NaN    M000639\n",
       "7              Carr, Bob    Michigan       8.0    C000178\n",
       "8           Nowak, Henry    New York      33.0    N000163\n",
       "9         Pascrell, Bill  New Jersey       9.0    P000096\n",
       "10       Booker, Cory A.  New Jersey       NaN    B001288\n",
       "11   Jackson Lee, Sheila       Texas      18.0    J000032\n",
       "12      Payne, Donald M.  New Jersey      10.0    P000604\n",
       "13       Gallagher, Mike   Wisconsin       8.0    G000579\n",
       "14      Symms, Steven D.       Idaho       NaN    S001138\n",
       "15           Lopez, Greg    Colorado       4.0    L000604\n",
       "16  Kiggans, Jennifer A.    Virginia       2.0    K000399\n",
       "17   Strickland, Marilyn  Washington      10.0    S001159\n",
       "18           Carey, Mike        Ohio      15.0    C001126\n",
       "19     Rulli, Michael A.        Ohio       6.0    R000619"
      ]
     },
     "execution_count": 8,
     "metadata": {},
     "output_type": "execute_result"
    }
   ],
   "source": [
    "bioguides = contrans_obj.get_bioguideIDs()\n",
    "bioguides"
   ]
  },
  {
   "cell_type": "code",
   "execution_count": 9,
   "metadata": {},
   "outputs": [
    {
     "name": "stdout",
     "output_type": "stream",
     "text": [
      "<class 'pandas.core.frame.DataFrame'>\n"
     ]
    }
   ],
   "source": [
    "print(type(bioguides))"
   ]
  },
  {
   "cell_type": "code",
   "execution_count": 10,
   "metadata": {},
   "outputs": [
    {
     "name": "stdout",
     "output_type": "stream",
     "text": [
      "                    name       state  district bioguideId\n",
      "0       McIver, LaMonica  New Jersey      10.0    M001229\n",
      "1       Evans, Daniel J.  Washington       NaN    E000236\n",
      "2            Sasser, Jim   Tennessee       NaN    S000068\n",
      "3       Helmy, George S.  New Jersey       NaN    H001097\n",
      "4             Ruiz, Raul  California      25.0    R000599\n",
      "5     De La Cruz, Monica       Texas      15.0    D000594\n",
      "6       Menendez, Robert  New Jersey       NaN    M000639\n",
      "7              Carr, Bob    Michigan       8.0    C000178\n",
      "8           Nowak, Henry    New York      33.0    N000163\n",
      "9         Pascrell, Bill  New Jersey       9.0    P000096\n",
      "10       Booker, Cory A.  New Jersey       NaN    B001288\n",
      "11   Jackson Lee, Sheila       Texas      18.0    J000032\n",
      "12      Payne, Donald M.  New Jersey      10.0    P000604\n",
      "13       Gallagher, Mike   Wisconsin       8.0    G000579\n",
      "14      Symms, Steven D.       Idaho       NaN    S001138\n",
      "15           Lopez, Greg    Colorado       4.0    L000604\n",
      "16  Kiggans, Jennifer A.    Virginia       2.0    K000399\n",
      "17   Strickland, Marilyn  Washington      10.0    S001159\n",
      "18           Carey, Mike        Ohio      15.0    C001126\n",
      "19     Rulli, Michael A.        Ohio       6.0    R000619\n"
     ]
    }
   ],
   "source": [
    "pprint.pp(bioguides)"
   ]
  },
  {
   "cell_type": "code",
   "execution_count": null,
   "metadata": {},
   "outputs": [],
   "source": []
  }
 ],
 "metadata": {
  "kernelspec": {
   "display_name": "Python 3 (ipykernel)",
   "language": "python",
   "name": "python3"
  },
  "language_info": {
   "codemirror_mode": {
    "name": "ipython",
    "version": 3
   },
   "file_extension": ".py",
   "mimetype": "text/x-python",
   "name": "python",
   "nbconvert_exporter": "python",
   "pygments_lexer": "ipython3",
   "version": "3.12.5"
  }
 },
 "nbformat": 4,
 "nbformat_minor": 4
}
